{
  "nbformat": 4,
  "nbformat_minor": 0,
  "metadata": {
    "colab": {
      "name": "Day4_Demo_Session1.ipynb",
      "provenance": [],
      "collapsed_sections": [],
      "authorship_tag": "ABX9TyNk7jVyMAQoQCRvK4ilq8om",
      "include_colab_link": true
    },
    "kernelspec": {
      "name": "python3",
      "display_name": "Python 3"
    }
  },
  "cells": [
    {
      "cell_type": "markdown",
      "metadata": {
        "id": "view-in-github",
        "colab_type": "text"
      },
      "source": [
        "<a href=\"https://colab.research.google.com/github/paianjana/Python-Workshop/blob/master/Day4_Demo_Session1.ipynb\" target=\"_parent\"><img src=\"https://colab.research.google.com/assets/colab-badge.svg\" alt=\"Open In Colab\"/></a>"
      ]
    },
    {
      "cell_type": "markdown",
      "metadata": {
        "id": "Or5-Fi9KW8kN",
        "colab_type": "text"
      },
      "source": [
        "#Writing Pythonic code\n",
        "The following code is harmful\n"
      ]
    },
    {
      "cell_type": "code",
      "metadata": {
        "id": "cixQFKiNXDUy",
        "colab_type": "code",
        "colab": {
          "base_uri": "https://localhost:8080/",
          "height": 35
        },
        "outputId": "0171d512-9b8c-40a5-9951-bbfb636610b4"
      },
      "source": [
        "result_list = ['True', 'False', 'File not found']\n",
        "result_string = ''\n",
        "for result in result_list:\n",
        "  result_string += result\n",
        "result_string"
      ],
      "execution_count": 1,
      "outputs": [
        {
          "output_type": "execute_result",
          "data": {
            "application/vnd.google.colaboratory.intrinsic+json": {
              "type": "string"
            },
            "text/plain": [
              "'TrueFalseFile not found'"
            ]
          },
          "metadata": {
            "tags": []
          },
          "execution_count": 1
        }
      ]
    },
    {
      "cell_type": "markdown",
      "metadata": {
        "id": "vELyURh4XS9P",
        "colab_type": "text"
      },
      "source": [
        "#without using for loop using join function as per PEP 8 rule\n",
        "The following code is idiomatic"
      ]
    },
    {
      "cell_type": "code",
      "metadata": {
        "id": "WmvRagqZXl9k",
        "colab_type": "code",
        "colab": {
          "base_uri": "https://localhost:8080/",
          "height": 35
        },
        "outputId": "150b12dd-238d-489d-a08a-41e7b82f96bb"
      },
      "source": [
        "result_list = ['True', 'False', 'File not found']\n",
        "result_string = ' '.join(result_list)\n",
        "result_string"
      ],
      "execution_count": 2,
      "outputs": [
        {
          "output_type": "execute_result",
          "data": {
            "application/vnd.google.colaboratory.intrinsic+json": {
              "type": "string"
            },
            "text/plain": [
              "'True False File not found'"
            ]
          },
          "metadata": {
            "tags": []
          },
          "execution_count": 2
        }
      ]
    },
    {
      "cell_type": "markdown",
      "metadata": {
        "id": "tkwZu_5uX_Ei",
        "colab_type": "text"
      },
      "source": [
        "#Chain string functions\n",
        "The following code is harmful"
      ]
    },
    {
      "cell_type": "code",
      "metadata": {
        "id": "JOrg_JRVYE71",
        "colab_type": "code",
        "colab": {
          "base_uri": "https://localhost:8080/",
          "height": 35
        },
        "outputId": "74a74cf7-cabe-4cac-dc1d-067f308bf3de"
      },
      "source": [
        "book_info = ' The Three Musketeers: Alexandre Dumas'\n",
        "formatted_book_info = book_info.strip()\n",
        "formatted_book_info = formatted_book_info.upper()\n",
        "formatted_book_info = formatted_book_info.replace(':', ' by')\n",
        "formatted_book_info"
      ],
      "execution_count": 3,
      "outputs": [
        {
          "output_type": "execute_result",
          "data": {
            "application/vnd.google.colaboratory.intrinsic+json": {
              "type": "string"
            },
            "text/plain": [
              "'THE THREE MUSKETEERS by ALEXANDRE DUMAS'"
            ]
          },
          "metadata": {
            "tags": []
          },
          "execution_count": 3
        }
      ]
    },
    {
      "cell_type": "markdown",
      "metadata": {
        "id": "8AUAP26YYVHr",
        "colab_type": "text"
      },
      "source": [
        "The following code is idiomatic"
      ]
    },
    {
      "cell_type": "code",
      "metadata": {
        "id": "KgdgQNYSYX4M",
        "colab_type": "code",
        "colab": {
          "base_uri": "https://localhost:8080/",
          "height": 35
        },
        "outputId": "455aab90-c663-4ebb-bde8-bc693acfb0e2"
      },
      "source": [
        "book_info = ' The Three Musketeers: Alexandre Dumas'\n",
        "formatted_book_info = book_info.strip().upper().replace(':', ' by')\n",
        "formatted_book_info"
      ],
      "execution_count": 4,
      "outputs": [
        {
          "output_type": "execute_result",
          "data": {
            "application/vnd.google.colaboratory.intrinsic+json": {
              "type": "string"
            },
            "text/plain": [
              "'THE THREE MUSKETEERS by ALEXANDRE DUMAS'"
            ]
          },
          "metadata": {
            "tags": []
          },
          "execution_count": 4
        }
      ]
    },
    {
      "cell_type": "markdown",
      "metadata": {
        "id": "J4Oz_IiPYgKz",
        "colab_type": "text"
      },
      "source": [
        "#Removing Duplicates from a List"
      ]
    },
    {
      "cell_type": "code",
      "metadata": {
        "id": "NqLFoUr5YxYC",
        "colab_type": "code",
        "colab": {
          "base_uri": "https://localhost:8080/",
          "height": 34
        },
        "outputId": "bb739304-cf57-4db8-a838-5caf3b97aba6"
      },
      "source": [
        "ints_list = [1, 2, 3, 4, 3, 2]\n",
        "temp = []\n",
        "for x in ints_list:\n",
        "    if x not in temp:\n",
        "        temp.append(x)\n",
        "ints_list = temp\n",
        "print(f'Updated List after removing duplicates = {temp}')"
      ],
      "execution_count": 5,
      "outputs": [
        {
          "output_type": "stream",
          "text": [
            "Updated List after removing duplicates = [1, 2, 3, 4]\n"
          ],
          "name": "stdout"
        }
      ]
    },
    {
      "cell_type": "markdown",
      "metadata": {
        "id": "jaoaJUR5Y2lf",
        "colab_type": "text"
      },
      "source": [
        "The following code is idiomatic using set()\n"
      ]
    },
    {
      "cell_type": "code",
      "metadata": {
        "id": "lmHmCcIxY4C7",
        "colab_type": "code",
        "colab": {
          "base_uri": "https://localhost:8080/",
          "height": 34
        },
        "outputId": "394e88c8-c61d-4740-ea75-5000c8725f84"
      },
      "source": [
        "ints_list = [1, 2, 3, 4, 3, 2]\n",
        "ints_list1 = list(set(ints_list))\n",
        "print(ints_list1)  # [1, 2, 3, 4]"
      ],
      "execution_count": 7,
      "outputs": [
        {
          "output_type": "stream",
          "text": [
            "[1, 2, 3, 4]\n"
          ],
          "name": "stdout"
        }
      ]
    },
    {
      "cell_type": "markdown",
      "metadata": {
        "id": "afUwztH0aG5j",
        "colab_type": "text"
      },
      "source": [
        "#some of the important functions in Python"
      ]
    },
    {
      "cell_type": "markdown",
      "metadata": {
        "id": "Uv75zNpIZSt6",
        "colab_type": "text"
      },
      "source": [
        "#zip() in Python\n",
        "The purpose of zip() is to map the similar index of multiple containers so that they can be used just using as single entity"
      ]
    },
    {
      "cell_type": "code",
      "metadata": {
        "id": "uuzniDX0ZnYc",
        "colab_type": "code",
        "colab": {
          "base_uri": "https://localhost:8080/",
          "height": 34
        },
        "outputId": "4308aeda-79d5-4362-9110-39a6e94f54c9"
      },
      "source": [
        "name = [ \"Manjeet\", \"Nikhil\", \"Shambhavi\", \"Astha\" ] \n",
        "roll_no = [ 4, 1, 3, 2 ] \n",
        "marks = [ 40, 50, 60, 70 ] \n",
        "  \n",
        "# using zip() to map values \n",
        "mapped = zip(name, roll_no, marks) \n",
        "  \n",
        "# converting values to print as set \n",
        "mapped = set(mapped) \n",
        "  \n",
        "# printing resultant values  \n",
        "print (\"The zipped result is : \",end=\"\") \n",
        "print (mapped) "
      ],
      "execution_count": 10,
      "outputs": [
        {
          "output_type": "stream",
          "text": [
            "The zipped result is : {('Nikhil', 1, 50), ('Shambhavi', 3, 60), ('Astha', 2, 70), ('Manjeet', 4, 40)}\n"
          ],
          "name": "stdout"
        }
      ]
    },
    {
      "cell_type": "markdown",
      "metadata": {
        "id": "spxOrux_Z1M-",
        "colab_type": "text"
      },
      "source": [
        "How to unzip?"
      ]
    },
    {
      "cell_type": "code",
      "metadata": {
        "id": "rw0nAdQwZ2Vi",
        "colab_type": "code",
        "colab": {
          "base_uri": "https://localhost:8080/",
          "height": 34
        },
        "outputId": "e029326f-4e8b-40f5-a69d-10ed3f7da9bc"
      },
      "source": [
        "name,rollno,marks=zip(*mapped)\n",
        "print(name,rollno,marks)"
      ],
      "execution_count": 9,
      "outputs": [
        {
          "output_type": "stream",
          "text": [
            "('Nikhil', 'Shambhavi', 'Astha', 'Manjeet') (1, 3, 2, 4) (50, 60, 70, 40)\n"
          ],
          "name": "stdout"
        }
      ]
    },
    {
      "cell_type": "markdown",
      "metadata": {
        "id": "k2bQjwg7a9WU",
        "colab_type": "text"
      },
      "source": [
        "#Map() function with lamda in Python\n",
        "It is used t calls the specied function for each item of an iterable (such as string, list, tuple or dictionary) and returns a list of results."
      ]
    },
    {
      "cell_type": "code",
      "metadata": {
        "id": "48JhW8egbTqD",
        "colab_type": "code",
        "colab": {
          "base_uri": "https://localhost:8080/",
          "height": 50
        },
        "outputId": "83d55dba-ea52-44f5-d689-62a791774770"
      },
      "source": [
        "def square(x):\n",
        "    return x*x\n",
        "numbers=[1, 2, 3, 4, 5]\n",
        "sqrList=map(square, numbers)\n",
        "print(list(sqrList))\n",
        "# use lamda function to have direct values\n",
        "sqrList1 = map(lambda x: x*x, [1, 2, 3, 4])\n",
        "print(list(sqrList1))"
      ],
      "execution_count": 13,
      "outputs": [
        {
          "output_type": "stream",
          "text": [
            "[1, 4, 9, 16, 25]\n",
            "[1, 4, 9, 16]\n"
          ],
          "name": "stdout"
        }
      ]
    },
    {
      "cell_type": "markdown",
      "metadata": {
        "id": "xK1VhIkpboeD",
        "colab_type": "text"
      },
      "source": [
        "In the above example, the map() function applies to each element in the numbers[] list"
      ]
    },
    {
      "cell_type": "markdown",
      "metadata": {
        "id": "SbQWUapzbrrr",
        "colab_type": "text"
      },
      "source": [
        "#Slicing operations in string\n",
        "Program for exchanging rst and last characters of a string using function"
      ]
    },
    {
      "cell_type": "code",
      "metadata": {
        "id": "Wwrmdb2vbyDC",
        "colab_type": "code",
        "colab": {
          "base_uri": "https://localhost:8080/",
          "height": 67
        },
        "outputId": "22d2e9e4-8f6e-4d11-da37-e39b7c018448"
      },
      "source": [
        "def change(string):\n",
        "      return string[-1] + string[1:-1] + string[0]\n",
        "string=input(\"Enter string:\")\n",
        "print(\"Modified string:\",change(string))\n",
        "print('original string :',string)"
      ],
      "execution_count": 14,
      "outputs": [
        {
          "output_type": "stream",
          "text": [
            "Enter string:vinay\n",
            "Modified string: yinav\n",
            "original string : vinay\n"
          ],
          "name": "stdout"
        }
      ]
    },
    {
      "cell_type": "markdown",
      "metadata": {
        "id": "vMVz3dBCb73b",
        "colab_type": "text"
      },
      "source": [
        "#Removing one character from a string"
      ]
    },
    {
      "cell_type": "code",
      "metadata": {
        "id": "UCmpyzk3cIDQ",
        "colab_type": "code",
        "colab": {
          "base_uri": "https://localhost:8080/",
          "height": 84
        },
        "outputId": "540f0787-95ef-4ca8-8530-6abf1fd44f15"
      },
      "source": [
        "def remove(string, n):\n",
        "    first = string[:n]   \n",
        "    last = string[n+1:]  \n",
        "    return first + last\n",
        "string=input(\"Enter the string:\")\n",
        "n=int(input(\"Enter the index of the character to remove:\"))\n",
        "print(\"Modified string:\")\n",
        "print(remove(string, n))\n"
      ],
      "execution_count": 19,
      "outputs": [
        {
          "output_type": "stream",
          "text": [
            "Enter the string:ramajayam\n",
            "Enter the index of the character to remove:4\n",
            "Modified string:\n",
            "ramaayam\n"
          ],
          "name": "stdout"
        }
      ]
    },
    {
      "cell_type": "markdown",
      "metadata": {
        "id": "lMHqMargeEO3",
        "colab_type": "text"
      },
      "source": [
        "#Sorting in Python using function"
      ]
    },
    {
      "cell_type": "code",
      "metadata": {
        "id": "T6ySXNoweH9G",
        "colab_type": "code",
        "colab": {
          "base_uri": "https://localhost:8080/",
          "height": 84
        },
        "outputId": "86d0b1d7-4b90-4afd-df00-d12f9f6670a4"
      },
      "source": [
        "def myFunc(e):\n",
        "  return len(e)\n",
        "#myfunc=lambda x : len(x)\n",
        "cars = ['Ford', 'Mitsubishi', 'BMW', 'VW']\n",
        "cars.sort(key=myFunc)\n",
        "print(cars)\n",
        "\n",
        "cars.sort(key=myFunc,reverse=True)\n",
        "print(cars)\n",
        "\n",
        "def myFunc(e):\n",
        "  return e[1]\n",
        "\n",
        "cars = [(1,'Ford'), (2,'Mitsubishi'), (3,'BMW'), (4,'VW')]\n",
        "cars.sort(key=myFunc)\n",
        "print(cars)\n",
        "\n",
        "cars.sort(key=myFunc,reverse=True)\n",
        "print(cars)"
      ],
      "execution_count": 22,
      "outputs": [
        {
          "output_type": "stream",
          "text": [
            "['VW', 'BMW', 'Ford', 'Mitsubishi']\n",
            "['Mitsubishi', 'Ford', 'BMW', 'VW']\n",
            "[(3, 'BMW'), (1, 'Ford'), (2, 'Mitsubishi'), (4, 'VW')]\n",
            "[(4, 'VW'), (2, 'Mitsubishi'), (1, 'Ford'), (3, 'BMW')]\n"
          ],
          "name": "stdout"
        }
      ]
    },
    {
      "cell_type": "markdown",
      "metadata": {
        "id": "MYKSLVYLfJ3Y",
        "colab_type": "text"
      },
      "source": [
        "#itertools groupby"
      ]
    },
    {
      "cell_type": "code",
      "metadata": {
        "id": "6wmJ0b57fVg_",
        "colab_type": "code",
        "colab": {
          "base_uri": "https://localhost:8080/",
          "height": 101
        },
        "outputId": "02529b2e-4bf6-4548-f591-df9072824715"
      },
      "source": [
        "from itertools import groupby\n",
        "\n",
        "things = [(\"animal\", \"bear\"), (\"animal\", \"duck\"), \\\n",
        "          (\"plant\", \"cactus\"), (\"vehicle\", \"speed boat\"),\\\n",
        "          (\"vehicle\", \"school bus\")]\n",
        "\n",
        "for key, group in groupby(things, lambda x: x[0]):\n",
        "    for thing in group:\n",
        "      print (\"A %s is a %s.\"%(thing[1], key))         "
      ],
      "execution_count": 24,
      "outputs": [
        {
          "output_type": "stream",
          "text": [
            "A bear is a animal.\n",
            "A duck is a animal.\n",
            "A cactus is a plant.\n",
            "A speed boat is a vehicle.\n",
            "A school bus is a vehicle.\n"
          ],
          "name": "stdout"
        }
      ]
    },
    {
      "cell_type": "markdown",
      "metadata": {
        "id": "pxBk1hwNgDSR",
        "colab_type": "text"
      },
      "source": [
        "#Combinations Of string \"SADIK\" OF SIZE 3. "
      ]
    },
    {
      "cell_type": "code",
      "metadata": {
        "id": "yynaC5upgK8j",
        "colab_type": "code",
        "colab": {
          "base_uri": "https://localhost:8080/",
          "height": 34
        },
        "outputId": "8cfe3877-ad2e-4394-ba64-9f202030524a"
      },
      "source": [
        "from itertools import combinations \n",
        "  \n",
        "letters =\"SADIK\"\n",
        "  \n",
        "# size of combination is set to 3 \n",
        "a = combinations(letters, 3)  \n",
        "y = [' '.join(i) for i in a] \n",
        "print(y) "
      ],
      "execution_count": 25,
      "outputs": [
        {
          "output_type": "stream",
          "text": [
            "['S A D', 'S A I', 'S A K', 'S D I', 'S D K', 'S I K', 'A D I', 'A D K', 'A I K', 'D I K']\n"
          ],
          "name": "stdout"
        }
      ]
    },
    {
      "cell_type": "markdown",
      "metadata": {
        "id": "sd1X0B5HiKoJ",
        "colab_type": "text"
      },
      "source": [
        "#Permutations Of string \"SADIK\" OF SIZE 3.\n"
      ]
    },
    {
      "cell_type": "code",
      "metadata": {
        "id": "EfGLi4tciNaB",
        "colab_type": "code",
        "colab": {
          "base_uri": "https://localhost:8080/",
          "height": 54
        },
        "outputId": "a5de6afb-47f1-4d27-937f-7f475b8a389e"
      },
      "source": [
        "from itertools import permutations \n",
        "  \n",
        "letters =\"SADIK\"\n",
        "  \n",
        "# size of permutaion is set to 3 \n",
        "a = permutations(letters, 3)  \n",
        "y = [' '.join(i) for i in a]  \n",
        "print(y) "
      ],
      "execution_count": 26,
      "outputs": [
        {
          "output_type": "stream",
          "text": [
            "['S A D', 'S A I', 'S A K', 'S D A', 'S D I', 'S D K', 'S I A', 'S I D', 'S I K', 'S K A', 'S K D', 'S K I', 'A S D', 'A S I', 'A S K', 'A D S', 'A D I', 'A D K', 'A I S', 'A I D', 'A I K', 'A K S', 'A K D', 'A K I', 'D S A', 'D S I', 'D S K', 'D A S', 'D A I', 'D A K', 'D I S', 'D I A', 'D I K', 'D K S', 'D K A', 'D K I', 'I S A', 'I S D', 'I S K', 'I A S', 'I A D', 'I A K', 'I D S', 'I D A', 'I D K', 'I K S', 'I K A', 'I K D', 'K S A', 'K S D', 'K S I', 'K A S', 'K A D', 'K A I', 'K D S', 'K D A', 'K D I', 'K I S', 'K I A', 'K I D']\n"
          ],
          "name": "stdout"
        }
      ]
    },
    {
      "cell_type": "markdown",
      "metadata": {
        "id": "rhSDEk7HiRpc",
        "colab_type": "text"
      },
      "source": [
        "#Accumulate()"
      ]
    },
    {
      "cell_type": "code",
      "metadata": {
        "id": "UMfxHEL3iTLU",
        "colab_type": "code",
        "colab": {
          "base_uri": "https://localhost:8080/",
          "height": 101
        },
        "outputId": "4053fcc5-0b34-4214-a4c6-93c8880f90fa"
      },
      "source": [
        "# import the itertool module  \n",
        "# to work with it \n",
        "import itertools \n",
        "  \n",
        "# import operator to work  \n",
        "# with operator \n",
        "import operator \n",
        "  \n",
        "# creating a list GFG \n",
        "GFG = [1, 2, 3, 4, 5] \n",
        "  \n",
        "# using the itertools.accumulate()  \n",
        "result = itertools.accumulate(GFG,  \n",
        "                              operator.mul) \n",
        "  \n",
        "# printing each item from list \n",
        "for each in result: \n",
        "    print(each) \n"
      ],
      "execution_count": 27,
      "outputs": [
        {
          "output_type": "stream",
          "text": [
            "1\n",
            "2\n",
            "6\n",
            "24\n",
            "120\n"
          ],
          "name": "stdout"
        }
      ]
    },
    {
      "cell_type": "markdown",
      "metadata": {
        "id": "5bIoYsPFiede",
        "colab_type": "text"
      },
      "source": [
        "#Swaping by ^(Exclusive or)\n"
      ]
    },
    {
      "cell_type": "code",
      "metadata": {
        "id": "qkQM6KcDiiet",
        "colab_type": "code",
        "colab": {
          "base_uri": "https://localhost:8080/",
          "height": 50
        },
        "outputId": "173d520b-fbc2-4cb0-e03e-9711cf69eef3"
      },
      "source": [
        "a=5\n",
        "b=4\n",
        "a=a^b\n",
        "b=a^b\n",
        "a=a^b\n",
        "print(a)\n",
        "print(b)\n"
      ],
      "execution_count": 28,
      "outputs": [
        {
          "output_type": "stream",
          "text": [
            "4\n",
            "5\n"
          ],
          "name": "stdout"
        }
      ]
    }
  ]
}