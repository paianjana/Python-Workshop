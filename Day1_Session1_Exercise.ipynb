{
  "nbformat": 4,
  "nbformat_minor": 0,
  "metadata": {
    "colab": {
      "name": "Day1_Session1_Exercise.ipynb",
      "provenance": [],
      "collapsed_sections": [],
      "authorship_tag": "ABX9TyOqMdVVwM7wB3AHZP9kPPqz",
      "include_colab_link": true
    },
    "kernelspec": {
      "name": "python3",
      "display_name": "Python 3"
    }
  },
  "cells": [
    {
      "cell_type": "markdown",
      "metadata": {
        "id": "view-in-github",
        "colab_type": "text"
      },
      "source": [
        "<a href=\"https://colab.research.google.com/github/paianjana/Python-Workshop/blob/master/Day1_Session1_Exercise.ipynb\" target=\"_parent\"><img src=\"https://colab.research.google.com/assets/colab-badge.svg\" alt=\"Open In Colab\"/></a>"
      ]
    },
    {
      "cell_type": "code",
      "metadata": {
        "id": "TTMwqy7l76Gw",
        "colab_type": "code",
        "colab": {}
      },
      "source": [
        ""
      ],
      "execution_count": null,
      "outputs": []
    },
    {
      "cell_type": "markdown",
      "metadata": {
        "id": "4HHBANCo8shv",
        "colab_type": "text"
      },
      "source": [
        "#Find the compound interest for the given p,n,r (formula : p(1+n*r/100)n )"
      ]
    },
    {
      "cell_type": "code",
      "metadata": {
        "id": "wIUb8Df58x0H",
        "colab_type": "code",
        "colab": {
          "base_uri": "https://localhost:8080/",
          "height": 84
        },
        "outputId": "534592a6-c2a8-4ac0-fe3b-9234c677d4c2"
      },
      "source": [
        "p=float(input(\"Enter the principal amount\"))\n",
        "n=float(input(\"Enter the value of n time period\"))\n",
        "r=float(input(\"Enter the value of r\"))\n",
        "ci=p*(pow((1+r/100),n))\n",
        "print(\"The compound intrest is\",ci)"
      ],
      "execution_count": 2,
      "outputs": [
        {
          "output_type": "stream",
          "text": [
            "Enter the principal amount12000\n",
            "Enter the value of n time period2\n",
            "Enter the value of r5.2\n",
            "The compound intrest is 13280.448000000002\n"
          ],
          "name": "stdout"
        }
      ]
    },
    {
      "cell_type": "markdown",
      "metadata": {
        "id": "VzlQtS-l9K3F",
        "colab_type": "text"
      },
      "source": [
        "#Convert centegrade to farenheit ( f= 9/5*c+32)"
      ]
    },
    {
      "cell_type": "code",
      "metadata": {
        "id": "3EAq_65h9QAw",
        "colab_type": "code",
        "colab": {
          "base_uri": "https://localhost:8080/",
          "height": 50
        },
        "outputId": "3473b2f8-f3c8-41a6-d48e-63ca08359938"
      },
      "source": [
        "\n",
        "c=float(input(\"Enter the temperature in centegrade\"))\n",
        "f=((9/5*c)+32)\n",
        "print(\"The fahrenheit value is {0}°F\".format(f))"
      ],
      "execution_count": 3,
      "outputs": [
        {
          "output_type": "stream",
          "text": [
            "Enter the temperature in centegrade0\n",
            "The fahrenheit value is 32.0°F\n"
          ],
          "name": "stdout"
        }
      ]
    },
    {
      "cell_type": "markdown",
      "metadata": {
        "id": "dWaU7yyg9XFX",
        "colab_type": "text"
      },
      "source": [
        "#Find the greater of two nos"
      ]
    },
    {
      "cell_type": "code",
      "metadata": {
        "id": "JLMrNk5g9bQO",
        "colab_type": "code",
        "colab": {
          "base_uri": "https://localhost:8080/",
          "height": 67
        },
        "outputId": "0b17ddd3-da59-4839-fd9a-2c904fddc24a"
      },
      "source": [
        "a=float(input(\"Enter the value of a\"))\n",
        "b=float(input(\"Enter the value of b\"))\n",
        "if(a>b):\n",
        "  print(\"a is greater\")\n",
        "else:\n",
        "  print(\"b is greater\")"
      ],
      "execution_count": 4,
      "outputs": [
        {
          "output_type": "stream",
          "text": [
            "Enter the value of a5\n",
            "Enter the value of b10\n",
            "b is greater\n"
          ],
          "name": "stdout"
        }
      ]
    },
    {
      "cell_type": "markdown",
      "metadata": {
        "id": "O_rCdrfG9i6_",
        "colab_type": "text"
      },
      "source": [
        "\n",
        "#Write a program for finding surface areas of cylinder and cone (2PIrrh, 1/3PIrrh) using function"
      ]
    },
    {
      "cell_type": "code",
      "metadata": {
        "id": "zaY98EwG9nNO",
        "colab_type": "code",
        "colab": {
          "base_uri": "https://localhost:8080/",
          "height": 118
        },
        "outputId": "5924d89b-f792-4135-9e18-e47abdc66a1c"
      },
      "source": [
        "r1=float(input(\"Enter the radius of the cylinder\"))\n",
        "h1=float(input(\"Enter the height of the cylinder\"))\n",
        "pi=22/7\n",
        "sa=(2*pi*r1*h1)+(2*pi*r1*r1)\n",
        "print(\"The suraface area of the cylinder is\",sa)\n",
        "r2=float(input(\"Enter the radius of cone\"))\n",
        "h2=float(input(\"Enter the height of cone\"))\n",
        "sa1=(1/3*pi*r2*r2*h2)\n",
        "print(\"The surface area of the cone is\",sa1)"
      ],
      "execution_count": 5,
      "outputs": [
        {
          "output_type": "stream",
          "text": [
            "Enter the radius of the cylinder6\n",
            "Enter the height of the cylinder4\n",
            "The suraface area of the cylinder is 377.1428571428571\n",
            "Enter the radius of cone1.3\n",
            "Enter the height of cone.5\n",
            "The surface area of the cone is 0.8852380952380952\n"
          ],
          "name": "stdout"
        }
      ]
    },
    {
      "cell_type": "markdown",
      "metadata": {
        "id": "R3Hlp5e194Pi",
        "colab_type": "text"
      },
      "source": [
        "#Find the greatest of four nos ( using ‘and’ operator) using function."
      ]
    },
    {
      "cell_type": "code",
      "metadata": {
        "id": "iVSQbsQA97NX",
        "colab_type": "code",
        "colab": {
          "base_uri": "https://localhost:8080/",
          "height": 101
        },
        "outputId": "fa1443a3-cd3a-4a0e-bb0d-f2b954f9b1a0"
      },
      "source": [
        "\n",
        "a=int(input(\"Enter the value of a\"))\n",
        "b=int(input(\"Enter the value of b\"))\n",
        "c=int(input(\"Enter the value of c\"))\n",
        "d=int(input(\"Enter the value of d\"))\n",
        "if((a>b) and (a>c) and (a>c)):\n",
        "  print(\"a is greater\")\n",
        "elif((b>a)and (b>c) and (b>d)):\n",
        "  print(\"b is greater\")\n",
        "elif((c>a)and (c>b) and (c>d)):\n",
        "  print(\"c is greater\")\n",
        "else:\n",
        "  print(\"d is greater\")"
      ],
      "execution_count": 6,
      "outputs": [
        {
          "output_type": "stream",
          "text": [
            "Enter the value of a12\n",
            "Enter the value of b10\n",
            "Enter the value of c55\n",
            "Enter the value of d14\n",
            "c is greater\n"
          ],
          "name": "stdout"
        }
      ]
    },
    {
      "cell_type": "markdown",
      "metadata": {
        "id": "8iZhEazk-FN_",
        "colab_type": "text"
      },
      "source": [
        "#Write a menu program to perform the operations ( ODDorEven, Factorial, ODDNoUptoN, PrimeUptoN ) using functions for two nos with menu choice"
      ]
    },
    {
      "cell_type": "code",
      "metadata": {
        "id": "2cfMeA7M-JtS",
        "colab_type": "code",
        "colab": {
          "base_uri": "https://localhost:8080/",
          "height": 1000
        },
        "outputId": "2db1638c-266f-4e74-de84-8286a63b2635"
      },
      "source": [
        "loop=1\n",
        "choice=0\n",
        "def OddOrEven(n):\n",
        "  if(n%2==0):\n",
        "      print(\"Even\")\n",
        "  else:\n",
        "      print(\"Odd\")\n",
        "\n",
        "def Factorial(n):\n",
        "  fact=1\n",
        "  while(n>0):\n",
        "    fact=fact*n\n",
        "    n=n-1\n",
        "  print(\"Factorial of the number is: \")\n",
        "  print(fact)\n",
        "\n",
        "def oddno(n):\n",
        "  for i in range(1,n):\n",
        "    if(i%2!=0):\n",
        "      print(i)\n",
        "\n",
        "def prime(n):\n",
        "    for num1 in range(1, n + 1):\n",
        "      if num1 > 1:\n",
        "       for i in range(2, num1):\n",
        "           if (num1 % i) == 0:\n",
        "               break\n",
        "       else:\n",
        "           print(num1)\n",
        "    \n",
        "while loop == 1:\n",
        "    print (\"your options are:\")\n",
        "    print (\" \")\n",
        "    print(\"1) ODD or EVEN\")\n",
        "    print(\"2) Factorial\")\n",
        "    print(\"3) Odd number\")\n",
        "    print(\"4) Prime number\")\n",
        "    print(\" \")\n",
        "    try:\n",
        "        choice = int(input(\"Choose your option: \"))\n",
        "    except:\n",
        "        print(\"please enter a valid number for option\")\n",
        "    print(\" \")\n",
        "    print(\" \")\n",
        "    if choice == 1:\n",
        "        n = int(input(\"Enter the  no: \"))\n",
        "        OddOrEven(n)\n",
        "    elif choice == 2:\n",
        "       n = int(input(\"Enter the  no: \"))\n",
        "       Factorial(n)\n",
        "    elif choice == 3:\n",
        "        n = int(input(\"Enter the  no: \"))\n",
        "        oddno(n)\n",
        "    elif choice == 4:\n",
        "        n = int(input(\"Enter the  no: \"))\n",
        "        prime(n)\n",
        "    else:\n",
        "        print(\"please choice a valid option from 1 to 4\")\n",
        "        choice=0"
      ],
      "execution_count": null,
      "outputs": [
        {
          "output_type": "stream",
          "text": [
            "your options are:\n",
            " \n",
            "1) ODD or EVEN\n",
            "2) Factorial\n",
            "3) Odd number\n",
            "4) Prime number\n",
            " \n",
            "Choose your option: 4\n",
            " \n",
            " \n",
            "Enter the  no: 7\n",
            "2\n",
            "3\n",
            "5\n",
            "7\n",
            "your options are:\n",
            " \n",
            "1) ODD or EVEN\n",
            "2) Factorial\n",
            "3) Odd number\n",
            "4) Prime number\n",
            " \n",
            "Choose your option: 1\n",
            " \n",
            " \n",
            "Enter the  no: 10\n",
            "Even\n",
            "your options are:\n",
            " \n",
            "1) ODD or EVEN\n",
            "2) Factorial\n",
            "3) Odd number\n",
            "4) Prime number\n",
            " \n",
            "Choose your option: 2\n",
            " \n",
            " \n",
            "Enter the  no: 6\n",
            "Factorial of the number is: \n",
            "720\n",
            "your options are:\n",
            " \n",
            "1) ODD or EVEN\n",
            "2) Factorial\n",
            "3) Odd number\n",
            "4) Prime number\n",
            " \n",
            "Choose your option: 3\n",
            " \n",
            " \n",
            "Enter the  no: 6\n",
            "1\n",
            "3\n",
            "5\n",
            "your options are:\n",
            " \n",
            "1) ODD or EVEN\n",
            "2) Factorial\n",
            "3) Odd number\n",
            "4) Prime number\n",
            " \n",
            "Choose your option: 5\n",
            " \n",
            " \n",
            "please choice a valid option from 1 to 4\n",
            "your options are:\n",
            " \n",
            "1) ODD or EVEN\n",
            "2) Factorial\n",
            "3) Odd number\n",
            "4) Prime number\n",
            " \n"
          ],
          "name": "stdout"
        }
      ]
    }
  ]
}