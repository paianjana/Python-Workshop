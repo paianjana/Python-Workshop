{
  "nbformat": 4,
  "nbformat_minor": 0,
  "metadata": {
    "colab": {
      "name": "Day1_Session2_Exercise.ipynb",
      "provenance": [],
      "collapsed_sections": [],
      "authorship_tag": "ABX9TyN6uGLJhY1PSfB+lY7eK1MD",
      "include_colab_link": true
    },
    "kernelspec": {
      "name": "python3",
      "display_name": "Python 3"
    }
  },
  "cells": [
    {
      "cell_type": "markdown",
      "metadata": {
        "id": "view-in-github",
        "colab_type": "text"
      },
      "source": [
        "<a href=\"https://colab.research.google.com/github/paianjana/Python-Workshop/blob/master/Day1_Session2_Exercise.ipynb\" target=\"_parent\"><img src=\"https://colab.research.google.com/assets/colab-badge.svg\" alt=\"Open In Colab\"/></a>"
      ]
    },
    {
      "cell_type": "markdown",
      "metadata": {
        "id": "uk7hvSzRAu2g",
        "colab_type": "text"
      },
      "source": [
        "\n",
        "#1) Write a program to print the triangle i/p 4\n",
        "\n",
        "#1 2 3 3 4 5 4 5 6 7"
      ]
    },
    {
      "cell_type": "code",
      "metadata": {
        "id": "zgvzvstDBB7x",
        "colab_type": "code",
        "colab": {
          "base_uri": "https://localhost:8080/",
          "height": 101
        },
        "outputId": "aa52a679-4c45-4e7f-e7dc-53eff2352bfb"
      },
      "source": [
        "\n",
        "n=4;\n",
        "for i in range(5):\n",
        "  k=i\n",
        "  for j in range(k):\n",
        "      print (k, end=\" \")\n",
        "      k=k+1\n",
        "  print('')"
      ],
      "execution_count": 1,
      "outputs": [
        {
          "output_type": "stream",
          "text": [
            "\n",
            "1 \n",
            "2 3 \n",
            "3 4 5 \n",
            "4 5 6 7 \n"
          ],
          "name": "stdout"
        }
      ]
    },
    {
      "cell_type": "markdown",
      "metadata": {
        "id": "AVSBeHyLBPQI",
        "colab_type": "text"
      },
      "source": [
        "#2) Program to print the pattern *\n",
        "\n"
      ]
    },
    {
      "cell_type": "code",
      "metadata": {
        "id": "EmOFaSurCc_w",
        "colab_type": "code",
        "colab": {
          "base_uri": "https://localhost:8080/",
          "height": 101
        },
        "outputId": "e8ed7394-b000-429b-f6fe-4d60bb0dd6d3"
      },
      "source": [
        "n=5;\n",
        "for i in range(n):\n",
        "    for j in range(i):\n",
        "        print ('* ', end=\"\")\n",
        "    print('')"
      ],
      "execution_count": 2,
      "outputs": [
        {
          "output_type": "stream",
          "text": [
            "\n",
            "* \n",
            "* * \n",
            "* * * \n",
            "* * * * \n"
          ],
          "name": "stdout"
        }
      ]
    },
    {
      "cell_type": "markdown",
      "metadata": {
        "id": "wxQ1qdscCk4I",
        "colab_type": "text"
      },
      "source": [
        "#3) Program to print the pattern 5 4 5 3 4 5 2 3 4 5 1 2 3 4 5"
      ]
    },
    {
      "cell_type": "code",
      "metadata": {
        "id": "afX1ll8kCot5",
        "colab_type": "code",
        "colab": {
          "base_uri": "https://localhost:8080/",
          "height": 101
        },
        "outputId": "cc6d13c5-d584-48d2-8d07-d822e0d76048"
      },
      "source": [
        "\n",
        "n=5;\n",
        "for i in range(n,0,-1):\n",
        "  for j in range(i,n+1):\n",
        "      print (j, end=' ')\n",
        "  print('')"
      ],
      "execution_count": 3,
      "outputs": [
        {
          "output_type": "stream",
          "text": [
            "5 \n",
            "4 5 \n",
            "3 4 5 \n",
            "2 3 4 5 \n",
            "1 2 3 4 5 \n"
          ],
          "name": "stdout"
        }
      ]
    },
    {
      "cell_type": "markdown",
      "metadata": {
        "id": "KmUcPP3rCwJo",
        "colab_type": "text"
      },
      "source": [
        "\n",
        "#4) Program to print the following pattern 5 4 3 2 1 4 3 2 1 3 2 1 2 1 1"
      ]
    },
    {
      "cell_type": "code",
      "metadata": {
        "id": "PvSdwRz8Czn6",
        "colab_type": "code",
        "colab": {
          "base_uri": "https://localhost:8080/",
          "height": 118
        },
        "outputId": "ca39cf23-d085-4d71-f275-1392505e9305"
      },
      "source": [
        "n=5\n",
        "for i in range(0,n+1):\n",
        "  for j in range(n-i,0,-1):\n",
        "      print(j,end=\" \")\n",
        "  print()"
      ],
      "execution_count": 4,
      "outputs": [
        {
          "output_type": "stream",
          "text": [
            "5 4 3 2 1 \n",
            "4 3 2 1 \n",
            "3 2 1 \n",
            "2 1 \n",
            "1 \n",
            "\n"
          ],
          "name": "stdout"
        }
      ]
    },
    {
      "cell_type": "markdown",
      "metadata": {
        "id": "SBpdDXhEC7Ey",
        "colab_type": "text"
      },
      "source": [
        "\n",
        "#5) Python program to print the following pattern\n",
        "\n",
        "#1 2 3 4 2 3 4 3 4 4 3 4 2 3 4 1 2 3 4"
      ]
    },
    {
      "cell_type": "code",
      "metadata": {
        "id": "9rD9CykfDC0K",
        "colab_type": "code",
        "colab": {
          "base_uri": "https://localhost:8080/",
          "height": 151
        },
        "outputId": "689f4ce9-2675-4e9b-a25b-6b2ebcae6906"
      },
      "source": [
        "n=4\n",
        "for i in range(0,n+1,1):\n",
        "  for j in range(i+1,n+1,1):\n",
        "    print(j,end=' ')\n",
        "  print()\n",
        "for i in range(4,n-3,-1):\n",
        "  for j in range(i-1,n+1,1):\n",
        "    print(j,end=' ')\n",
        "  print()"
      ],
      "execution_count": 5,
      "outputs": [
        {
          "output_type": "stream",
          "text": [
            "1 2 3 4 \n",
            "2 3 4 \n",
            "3 4 \n",
            "4 \n",
            "\n",
            "3 4 \n",
            "2 3 4 \n",
            "1 2 3 4 \n"
          ],
          "name": "stdout"
        }
      ]
    },
    {
      "cell_type": "markdown",
      "metadata": {
        "id": "4SiBO7V-DK4g",
        "colab_type": "text"
      },
      "source": [
        "\n",
        "#6) Find the length of the string without using len function"
      ]
    },
    {
      "cell_type": "code",
      "metadata": {
        "id": "6zUMDuG7DPWL",
        "colab_type": "code",
        "colab": {
          "base_uri": "https://localhost:8080/",
          "height": 50
        },
        "outputId": "7abfdbc0-4079-4983-9dc9-0c72cc77b3c2"
      },
      "source": [
        "\n",
        "str = input(\"Enter a string: \")\n",
        "counter = 0\n",
        "for s in str:\n",
        "      counter = counter+1\n",
        "print(\"Length of the input string is:\", counter)"
      ],
      "execution_count": 6,
      "outputs": [
        {
          "output_type": "stream",
          "text": [
            "Enter a string: mangalore\n",
            "Length of the input string is: 9\n"
          ],
          "name": "stdout"
        }
      ]
    },
    {
      "cell_type": "markdown",
      "metadata": {
        "id": "5xjn5Jq1DglI",
        "colab_type": "text"
      },
      "source": [
        "#7) Find the no of words and characters in a string"
      ]
    },
    {
      "cell_type": "code",
      "metadata": {
        "id": "2Ijz98xXDlta",
        "colab_type": "code",
        "colab": {
          "base_uri": "https://localhost:8080/",
          "height": 101
        },
        "outputId": "a17cf967-25d7-4f51-d6ed-362ed378fc0c"
      },
      "source": [
        "\n",
        "string=input(\"Enter string:\")\n",
        "char=0\n",
        "word=1\n",
        "for i in string:\n",
        "      char=char+1\n",
        "      if(i==' '):\n",
        "            word=word+1\n",
        "print(\"Number of words in the string:\")\n",
        "print(word)\n",
        "print(\"Number of characters in the string:\")\n",
        "print(char)"
      ],
      "execution_count": 7,
      "outputs": [
        {
          "output_type": "stream",
          "text": [
            "Enter string:she is fine\n",
            "Number of words in the string:\n",
            "3\n",
            "Number of characters in the string:\n",
            "11\n"
          ],
          "name": "stdout"
        }
      ]
    },
    {
      "cell_type": "markdown",
      "metadata": {
        "id": "FJoScPomD1Ba",
        "colab_type": "text"
      },
      "source": [
        "#8) Find the no of occurrences of a word in a string"
      ]
    },
    {
      "cell_type": "code",
      "metadata": {
        "id": "3tt_ei_eD5wn",
        "colab_type": "code",
        "colab": {
          "base_uri": "https://localhost:8080/",
          "height": 67
        },
        "outputId": "fa4b00b3-40c6-4661-fec7-7310858e75fb"
      },
      "source": [
        "def countOccurences(str, word): \n",
        "    a = str.split(\" \") \n",
        "    count = 0\n",
        "    for i in range(0, len(a)):  \n",
        "        if (word == a[i]): \n",
        "           count = count + 1\n",
        "             \n",
        "    return count        \n",
        "str =input(\"Enter the String\")\n",
        "word =input(\"Enter the word\")\n",
        "print(countOccurences(str, word))"
      ],
      "execution_count": 10,
      "outputs": [
        {
          "output_type": "stream",
          "text": [
            "Enter the Stringhappy and happy\n",
            "Enter the wordhappy\n",
            "2\n"
          ],
          "name": "stdout"
        }
      ]
    }
  ]
}